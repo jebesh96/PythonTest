{
  "nbformat": 4,
  "nbformat_minor": 0,
  "metadata": {
    "kernelspec": {
      "display_name": "Python 3",
      "language": "python",
      "name": "python3"
    },
    "language_info": {
      "codemirror_mode": {
        "name": "ipython",
        "version": 3
      },
      "file_extension": ".py",
      "mimetype": "text/x-python",
      "name": "python",
      "nbconvert_exporter": "python",
      "pygments_lexer": "ipython3",
      "version": "3.8.3"
    },
    "colab": {
      "name": "SendMail.ipynb",
      "provenance": [],
      "include_colab_link": true
    }
  },
  "cells": [
    {
      "cell_type": "markdown",
      "metadata": {
        "id": "view-in-github",
        "colab_type": "text"
      },
      "source": [
        "<a href=\"https://colab.research.google.com/github/jebesh96/PythonTest/blob/Test/SendMail.ipynb\" target=\"_parent\"><img src=\"https://colab.research.google.com/assets/colab-badge.svg\" alt=\"Open In Colab\"/></a>"
      ]
    },
    {
      "cell_type": "code",
      "metadata": {
        "id": "QE60P63yHAIW"
      },
      "source": [
        "import smtplib, ssl\n",
        "from email.mime.text import MIMEText\n",
        "from email.mime.multipart import MIMEMultipart"
      ],
      "execution_count": 1,
      "outputs": []
    },
    {
      "cell_type": "code",
      "metadata": {
        "id": "XhdfyirpHAId"
      },
      "source": [
        "# Create the HTML version of your message\n",
        "body = \"\"\"\\\n",
        "<html>\n",
        "<head>\n",
        "<style>\n",
        "table, td, th{\n",
        "  border: 1px solid black;\n",
        "}\n",
        "table {\n",
        "  border-collapse: collapse;\n",
        "}\n",
        "</style>\n",
        "</head>\n",
        "<body>\n",
        "\n",
        "<p><b>Hi All,</b></p>\n",
        "\n",
        "<p><ins><b>TODAY'S COMMIT</b></ins></p>\n",
        "<a href=\"COMMIT_LINK\">COMMIT_LINK</a>\n",
        "\n",
        "<p><ins><b>TAG CREATED</b></ins></p>\n",
        "<table>\n",
        "  <tr>\n",
        "    <td>COMMIT_TAG</td>\n",
        "    <td>COMMIT_TAG_ID</td>\n",
        "  </tr>\n",
        "  <tr>\n",
        "    <td>TAG_CREATED</td>\n",
        "    <td><a href=\"TAG_CREATED_LINK\">TAG_CREATED_LINK</a></td>\n",
        "  </tr>\n",
        "</table>\n",
        "\n",
        "<p><ins><b>CI STATUS</b></ins></p>\n",
        "<table>\n",
        "  <tr>\n",
        "    <td colspan=\"2\" style=\"background-color:#006666\"><center>TEAM CI STATUS</center></td>\n",
        "  </tr>\n",
        "  <tr>\n",
        "    <td>ENV_1</td>\n",
        "    <td style=\"background-color:#339933\">ENV_1_STATUS</td>\n",
        "  </tr>\n",
        "  <tr>\n",
        "    <td>ENV_2</td>\n",
        "    <td style=\"background-color:#339933\">ENV_2_STATUS</td>\n",
        "  </tr>\n",
        "</table>\n",
        "\n",
        "<p><ins><b>CI LINKS</b></ins></p>\n",
        "<table>\n",
        "  <tr>\n",
        "    <td colspan=\"2\"><center>ENV_1 CI LINKS</center></td>\n",
        "  </tr>\n",
        "  <tr>\n",
        "    <td>RADIATOR</td>\n",
        "    <td><a href=\"ENV_1_RADIATOR\">ENV_1_RADIATOR</a></td>\n",
        "  </tr>\n",
        "  <tr>\n",
        "    <td>PIPELINE</td>\n",
        "    <td><a href=\"ENV_1_PIPELINE\">ENV_1_PIPELINE</a></td>\n",
        "  </tr>\n",
        "  <tr>\n",
        "    <td colspan=\"2\"><center>ENV_2 CI LINKS</center></td>\n",
        "  </tr>\n",
        "  <tr>\n",
        "    <td>RADIATOR</td>\n",
        "    <td><a href=\"ENV_2_RADIATOR\">ENV_2_RADIATOR</a></td>\n",
        "  </tr>\n",
        "  <tr>\n",
        "    <td>PIPELINE</td>\n",
        "    <td><a href=\"ENV_2_PIPELINE\">ENV_2_PIPELINE</a></td>\n",
        "  </tr>\n",
        "</table>\n",
        "\n",
        "\n",
        "<p><ins><b>OVERALL CI REPORT</b></ins></p>\n",
        "\n",
        "</body>\n",
        "</html>\n",
        "\n",
        "\n",
        "\"\"\""
      ],
      "execution_count": 2,
      "outputs": []
    },
    {
      "cell_type": "code",
      "metadata": {
        "id": "_7C7gE19HAIj"
      },
      "source": [
        "port = 465  # For SSL\n",
        "smtp_server = \"smtp.gmail.com\"\n",
        "sender_email = \"jebeshchandra@gmail.com\"  # Enter your address\n",
        "receiver_email = \"jebeshchandra@gmail.com\"  # Enter receiver address\n",
        "password = \"jtzgwmofvhcmezwt\"\n",
        "\n",
        "message = MIMEMultipart(\"alternative\")\n",
        "message[\"Subject\"] = \"Test Mail\"\n",
        "message[\"From\"] = sender_email\n",
        "message[\"To\"] = receiver_email\n",
        "\n",
        "# Turn these into plain/html MIMEText objects\n",
        "part1 = MIMEText(body, \"html\")\n",
        "\n",
        "# Add HTML/plain-text parts to MIMEMultipart message\n",
        "# The email client will try to render the last part first\n",
        "message.attach(part1)\n",
        "\n",
        "# Create secure connection with server and send email\n",
        "context = ssl.create_default_context()\n",
        "with smtplib.SMTP_SSL(smtp_server, 465, context=context) as server:\n",
        "    server.login(sender_email, password)\n",
        "    server.sendmail(sender_email, receiver_email, message.as_string())"
      ],
      "execution_count": 3,
      "outputs": []
    },
    {
      "cell_type": "code",
      "metadata": {
        "id": "EddGH2MCHAIp"
      },
      "source": [
        ""
      ],
      "execution_count": null,
      "outputs": []
    }
  ]
}