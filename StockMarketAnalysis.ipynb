{
  "nbformat": 4,
  "nbformat_minor": 0,
  "metadata": {
    "kernelspec": {
      "display_name": "Python 3",
      "language": "python",
      "name": "python3"
    },
    "language_info": {
      "codemirror_mode": {
        "name": "ipython",
        "version": 3
      },
      "file_extension": ".py",
      "mimetype": "text/x-python",
      "name": "python",
      "nbconvert_exporter": "python",
      "pygments_lexer": "ipython3",
      "version": "3.8.3"
    },
    "colab": {
      "name": "StockMarketAnalysis.ipynb",
      "provenance": [],
      "include_colab_link": true
    }
  },
  "cells": [
    {
      "cell_type": "markdown",
      "metadata": {
        "id": "view-in-github",
        "colab_type": "text"
      },
      "source": [
        "<a href=\"https://colab.research.google.com/github/jebesh96/PythonTest/blob/Test/StockMarketAnalysis.ipynb\" target=\"_parent\"><img src=\"https://colab.research.google.com/assets/colab-badge.svg\" alt=\"Open In Colab\"/></a>"
      ]
    },
    {
      "cell_type": "code",
      "metadata": {
        "id": "HeCKJtq6IhIY"
      },
      "source": [
        "import matplotlib.pyplot as plt\n",
        "from sklearn import linear_model\n",
        "import numpy as np"
      ],
      "execution_count": null,
      "outputs": []
    },
    {
      "cell_type": "code",
      "metadata": {
        "id": "PtJEylc4QKgQ"
      },
      "source": [
        "from googlefinance import getQuotes\n",
        "import json\n",
        "print(json.dumps(getQuotes('AAPL'), indent=2))"
      ],
      "execution_count": null,
      "outputs": []
    },
    {
      "cell_type": "code",
      "metadata": {
        "id": "3_MtAJXORcxt",
        "outputId": "7611d20b-f3b8-416b-c774-1fce8ce63509",
        "colab": {
          "base_uri": "https://localhost:8080/"
        }
      },
      "source": [
        "from pandas_datareader import data\n",
        "import matplotlib.pyplot as plt\n",
        "import pandas as pd\n",
        "# Define the instruments to download. We would like to see Apple, Microsoft and the S&P500 index.\n",
        "tickers = ['TATAMOTORS.NS']\n",
        "\n",
        "# We would like all available data from 01/01/2000 until 12/31/2016.\n",
        "start_date = '2019-12-01'\n",
        "end_date = '2020-12-03'\n",
        "\n",
        "# User pandas_reader.data.DataReader to load the desired data. As simple as that.\n",
        "panel_data = data.DataReader(tickers, 'yahoo', start_date, end_date)\n",
        "\n",
        "print(panel_data)\n"
      ],
      "execution_count": 22,
      "outputs": [
        {
          "output_type": "stream",
          "text": [
            "Attributes     Adj Close         Close  ...          Open        Volume\n",
            "Symbols    TATAMOTORS.NS TATAMOTORS.NS  ... TATAMOTORS.NS TATAMOTORS.NS\n",
            "Date                                    ...                            \n",
            "2019-12-02    161.050003    161.050003  ...    160.949997    19441998.0\n",
            "2019-12-03    158.199997    158.199997  ...    162.949997    21156471.0\n",
            "2019-12-04    169.399994    169.399994  ...    158.500000    72084687.0\n",
            "2019-12-05    166.100006    166.100006  ...    170.350006    31787128.0\n",
            "2019-12-06    161.500000    161.500000  ...    167.000000    27727162.0\n",
            "...                  ...           ...  ...           ...           ...\n",
            "2020-11-26    173.750000    173.750000  ...    171.600006    39094724.0\n",
            "2020-11-27    180.350006    180.350006  ...    174.649994   125926062.0\n",
            "2020-12-01    179.750000    179.750000  ...    182.350006    48881250.0\n",
            "2020-12-02    183.600006    183.600006  ...    184.000000    88107889.0\n",
            "2020-12-03    184.250000    184.250000  ...    185.000000    16778316.0\n",
            "\n",
            "[252 rows x 6 columns]\n"
          ],
          "name": "stdout"
        }
      ]
    }
  ]
}