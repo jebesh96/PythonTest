{
  "nbformat": 4,
  "nbformat_minor": 0,
  "metadata": {
    "kernelspec": {
      "display_name": "Python 3",
      "language": "python",
      "name": "python3"
    },
    "language_info": {
      "codemirror_mode": {
        "name": "ipython",
        "version": 3
      },
      "file_extension": ".py",
      "mimetype": "text/x-python",
      "name": "python",
      "nbconvert_exporter": "python",
      "pygments_lexer": "ipython3",
      "version": "3.8.3"
    },
    "colab": {
      "name": "StockMarketAnalysis.ipynb",
      "provenance": [],
      "include_colab_link": true
    }
  },
  "cells": [
    {
      "cell_type": "markdown",
      "metadata": {
        "id": "view-in-github",
        "colab_type": "text"
      },
      "source": [
        "<a href=\"https://colab.research.google.com/github/jebesh96/PythonTest/blob/Test/StockMarketAnalysis.ipynb\" target=\"_parent\"><img src=\"https://colab.research.google.com/assets/colab-badge.svg\" alt=\"Open In Colab\"/></a>"
      ]
    },
    {
      "cell_type": "code",
      "metadata": {
        "id": "HeCKJtq6IhIY"
      },
      "source": [
        "import matplotlib.pyplot as plt\n",
        "from sklearn import linear_model\n",
        "import numpy as np"
      ],
      "execution_count": null,
      "outputs": []
    },
    {
      "cell_type": "code",
      "metadata": {
        "id": "PtJEylc4QKgQ"
      },
      "source": [
        "from googlefinance import getQuotes\n",
        "import json\n",
        "print(json.dumps(getQuotes('AAPL'), indent=2))"
      ],
      "execution_count": null,
      "outputs": []
    },
    {
      "cell_type": "code",
      "metadata": {
        "colab": {
          "base_uri": "https://localhost:8080/",
          "height": 282
        },
        "id": "3_MtAJXORcxt",
        "outputId": "bd539f0c-7374-42cd-d79e-dc38a4773b4c"
      },
      "source": [
        "from pandas_datareader import data\n",
        "import matplotlib.pyplot as plt\n",
        "import pandas as pd\n",
        "# Define the instruments to download. We would like to see Apple, Microsoft and the S&P500 index.\n",
        "tickers = ['TATAMOTORS.NS']\n",
        "\n",
        "# We would like all available data from 01/01/2000 until 12/31/2016.\n",
        "start_date = '2019-12-01'\n",
        "end_date = '2020-12-03'\n",
        "\n",
        "# User pandas_reader.data.DataReader to load the desired data. As simple as that.\n",
        "panel_data = data.DataReader(tickers, 'yahoo', start_date, end_date)\n",
        "\n",
        "#print(panel_data.to_string())\n",
        "open = panel_data['Open']\n",
        "\n",
        "plt.plot(open)\n"
      ],
      "execution_count": 2,
      "outputs": [
        {
          "output_type": "execute_result",
          "data": {
            "text/plain": [
              "[<matplotlib.lines.Line2D at 0x7f78a3118978>]"
            ]
          },
          "metadata": {
            "tags": []
          },
          "execution_count": 2
        },
        {
          "output_type": "display_data",
          "data": {
            "image/png": "[encoded data removed]",
            "text/plain": [
              "<Figure size 432x288 with 1 Axes>"
            ]
          },
          "metadata": {
            "tags": [],
            "needs_background": "light"
          }
        }
      ]
    }
  ]
}